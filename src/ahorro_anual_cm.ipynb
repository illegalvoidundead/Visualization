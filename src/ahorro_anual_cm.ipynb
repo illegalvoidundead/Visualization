{
 "cells": [
  {
   "cell_type": "code",
   "execution_count": 15,
   "id": "4c03e761",
   "metadata": {},
   "outputs": [],
   "source": [
    "from selenium import webdriver\n",
    "from selenium.webdriver.common.by import By\n",
    "import pandas as pd\n",
    "import matplotlib.pyplot as plt\n",
    "from io import BytesIO\n",
    "import base64\n",
    "import zipfile\n",
    "import urllib.request"
   ]
  },
  {
   "cell_type": "code",
   "execution_count": 16,
   "id": "7ae16cc1",
   "metadata": {},
   "outputs": [],
   "source": [
    "driver = webdriver.Chrome() #cargo la págica a scrapear\n",
    "driver.get('https://datawrapper.dwcdn.net/LG7ud/3/')"
   ]
  },
  {
   "cell_type": "code",
   "execution_count": 17,
   "id": "8b221864",
   "metadata": {},
   "outputs": [],
   "source": [
    "table = driver.find_element(By.XPATH, '//*[@id=\"chart\"]/div/table') #localizo la tabla a partir de la expresion XPATH"
   ]
  },
  {
   "cell_type": "code",
   "execution_count": 18,
   "id": "5a3ab655",
   "metadata": {},
   "outputs": [],
   "source": [
    "data = [] # creo una lista vacía\n",
    "for row in table.find_elements(By.TAG_NAME, 'tr'): #itero los elementos 'tr' de la tabla\n",
    "    row_data = [cell.text for cell in row.find_elements(By.TAG_NAME, 'td')] #por cada 'tr' encuentra los 'td' y almacena el texto que contienen en row_data\n",
    "    data.append(row_data) #añádelos a la lista data"
   ]
  },
  {
   "cell_type": "code",
   "execution_count": 19,
   "id": "bd899774",
   "metadata": {},
   "outputs": [],
   "source": [
    "df = pd.DataFrame(data) # creo un dataframe con el contenido de la lista data"
   ]
  },
  {
   "cell_type": "code",
   "execution_count": 20,
   "id": "fc2eb34f",
   "metadata": {},
   "outputs": [
    {
     "data": {
      "text/html": [
       "<div>\n",
       "<style scoped>\n",
       "    .dataframe tbody tr th:only-of-type {\n",
       "        vertical-align: middle;\n",
       "    }\n",
       "\n",
       "    .dataframe tbody tr th {\n",
       "        vertical-align: top;\n",
       "    }\n",
       "\n",
       "    .dataframe thead th {\n",
       "        text-align: right;\n",
       "    }\n",
       "</style>\n",
       "<table border=\"1\" class=\"dataframe\">\n",
       "  <thead>\n",
       "    <tr style=\"text-align: right;\">\n",
       "      <th></th>\n",
       "      <th>0</th>\n",
       "      <th>1</th>\n",
       "      <th>2</th>\n",
       "      <th>3</th>\n",
       "      <th>4</th>\n",
       "    </tr>\n",
       "  </thead>\n",
       "  <tbody>\n",
       "    <tr>\n",
       "      <th>0</th>\n",
       "      <td>None</td>\n",
       "      <td>None</td>\n",
       "      <td>None</td>\n",
       "      <td>None</td>\n",
       "      <td>None</td>\n",
       "    </tr>\n",
       "    <tr>\n",
       "      <th>1</th>\n",
       "      <td>6.000€</td>\n",
       "      <td>45€</td>\n",
       "      <td>43€</td>\n",
       "      <td>3€</td>\n",
       "      <td>0,2€</td>\n",
       "    </tr>\n",
       "    <tr>\n",
       "      <th>2</th>\n",
       "      <td>12.000€</td>\n",
       "      <td>585€</td>\n",
       "      <td>553€</td>\n",
       "      <td>33€</td>\n",
       "      <td>2,7€</td>\n",
       "    </tr>\n",
       "    <tr>\n",
       "      <th>3</th>\n",
       "      <td>18.000€</td>\n",
       "      <td>1.253€</td>\n",
       "      <td>1.191€</td>\n",
       "      <td>63€</td>\n",
       "      <td>5,2€</td>\n",
       "    </tr>\n",
       "    <tr>\n",
       "      <th>4</th>\n",
       "      <td>24.000€</td>\n",
       "      <td>2.051€</td>\n",
       "      <td>1.959€</td>\n",
       "      <td>93€</td>\n",
       "      <td>7,7€</td>\n",
       "    </tr>\n",
       "    <tr>\n",
       "      <th>5</th>\n",
       "      <td>30.000€</td>\n",
       "      <td>2.849€</td>\n",
       "      <td>2.727€</td>\n",
       "      <td>123€</td>\n",
       "      <td>10,2€</td>\n",
       "    </tr>\n",
       "    <tr>\n",
       "      <th>6</th>\n",
       "      <td>36.000€</td>\n",
       "      <td>3.785€</td>\n",
       "      <td>3.632€</td>\n",
       "      <td>153€</td>\n",
       "      <td>12,7€</td>\n",
       "    </tr>\n",
       "    <tr>\n",
       "      <th>7</th>\n",
       "      <td>42.000€</td>\n",
       "      <td>4.859€</td>\n",
       "      <td>4.676€</td>\n",
       "      <td>183€</td>\n",
       "      <td>15,2€</td>\n",
       "    </tr>\n",
       "    <tr>\n",
       "      <th>8</th>\n",
       "      <td>48.000€</td>\n",
       "      <td>5.933€</td>\n",
       "      <td>5.720€</td>\n",
       "      <td>213€</td>\n",
       "      <td>17,7€</td>\n",
       "    </tr>\n",
       "    <tr>\n",
       "      <th>9</th>\n",
       "      <td>54.000€</td>\n",
       "      <td>7.025€</td>\n",
       "      <td>6.783€</td>\n",
       "      <td>243€</td>\n",
       "      <td>20,2€</td>\n",
       "    </tr>\n",
       "    <tr>\n",
       "      <th>10</th>\n",
       "      <td>60.000€</td>\n",
       "      <td>8.285€</td>\n",
       "      <td>8.013€</td>\n",
       "      <td>273€</td>\n",
       "      <td>22,7€</td>\n",
       "    </tr>\n",
       "    <tr>\n",
       "      <th>11</th>\n",
       "      <td>90.000€</td>\n",
       "      <td>14.585€</td>\n",
       "      <td>14.163€</td>\n",
       "      <td>423€</td>\n",
       "      <td>35,2€</td>\n",
       "    </tr>\n",
       "    <tr>\n",
       "      <th>12</th>\n",
       "      <td>120.000€</td>\n",
       "      <td>20.885€</td>\n",
       "      <td>20.313€</td>\n",
       "      <td>573€</td>\n",
       "      <td>47,7€</td>\n",
       "    </tr>\n",
       "    <tr>\n",
       "      <th>13</th>\n",
       "      <td>150.000€</td>\n",
       "      <td>27.185€</td>\n",
       "      <td>26.463€</td>\n",
       "      <td>723€</td>\n",
       "      <td>60,2€</td>\n",
       "    </tr>\n",
       "    <tr>\n",
       "      <th>14</th>\n",
       "      <td>180.000€</td>\n",
       "      <td>33.485€</td>\n",
       "      <td>32.613€</td>\n",
       "      <td>873€</td>\n",
       "      <td>72,7€</td>\n",
       "    </tr>\n",
       "    <tr>\n",
       "      <th>15</th>\n",
       "      <td>210.000€</td>\n",
       "      <td>39.785€</td>\n",
       "      <td>38.763€</td>\n",
       "      <td>1.023€</td>\n",
       "      <td>85,2€</td>\n",
       "    </tr>\n",
       "    <tr>\n",
       "      <th>16</th>\n",
       "      <td>240.000€</td>\n",
       "      <td>46.085€</td>\n",
       "      <td>44.913€</td>\n",
       "      <td>1.173€</td>\n",
       "      <td>97,7€</td>\n",
       "    </tr>\n",
       "    <tr>\n",
       "      <th>17</th>\n",
       "      <td>360.000€</td>\n",
       "      <td>71.285€</td>\n",
       "      <td>69.513€</td>\n",
       "      <td>1.773€</td>\n",
       "      <td>147,7€</td>\n",
       "    </tr>\n",
       "    <tr>\n",
       "      <th>18</th>\n",
       "      <td>480.000€</td>\n",
       "      <td>96.485€</td>\n",
       "      <td>94.113€</td>\n",
       "      <td>2.373€</td>\n",
       "      <td>197,7€</td>\n",
       "    </tr>\n",
       "    <tr>\n",
       "      <th>19</th>\n",
       "      <td>600.000€</td>\n",
       "      <td>121.685€</td>\n",
       "      <td>118.713€</td>\n",
       "      <td>2.973€</td>\n",
       "      <td>247,7€</td>\n",
       "    </tr>\n",
       "  </tbody>\n",
       "</table>\n",
       "</div>"
      ],
      "text/plain": [
       "           0         1         2       3       4\n",
       "0       None      None      None    None    None\n",
       "1     6.000€       45€       43€      3€    0,2€\n",
       "2    12.000€      585€      553€     33€    2,7€\n",
       "3    18.000€    1.253€    1.191€     63€    5,2€\n",
       "4    24.000€    2.051€    1.959€     93€    7,7€\n",
       "5    30.000€    2.849€    2.727€    123€   10,2€\n",
       "6    36.000€    3.785€    3.632€    153€   12,7€\n",
       "7    42.000€    4.859€    4.676€    183€   15,2€\n",
       "8    48.000€    5.933€    5.720€    213€   17,7€\n",
       "9    54.000€    7.025€    6.783€    243€   20,2€\n",
       "10   60.000€    8.285€    8.013€    273€   22,7€\n",
       "11   90.000€   14.585€   14.163€    423€   35,2€\n",
       "12  120.000€   20.885€   20.313€    573€   47,7€\n",
       "13  150.000€   27.185€   26.463€    723€   60,2€\n",
       "14  180.000€   33.485€   32.613€    873€   72,7€\n",
       "15  210.000€   39.785€   38.763€  1.023€   85,2€\n",
       "16  240.000€   46.085€   44.913€  1.173€   97,7€\n",
       "17  360.000€   71.285€   69.513€  1.773€  147,7€\n",
       "18  480.000€   96.485€   94.113€  2.373€  197,7€\n",
       "19  600.000€  121.685€  118.713€  2.973€  247,7€"
      ]
     },
     "execution_count": 20,
     "metadata": {},
     "output_type": "execute_result"
    }
   ],
   "source": [
    "df"
   ]
  },
  {
   "cell_type": "code",
   "execution_count": 21,
   "id": "e08ecd41",
   "metadata": {},
   "outputs": [],
   "source": [
    "df = df.drop(0) #elimino la primera fila"
   ]
  },
  {
   "cell_type": "code",
   "execution_count": 22,
   "id": "0cb392c1",
   "metadata": {},
   "outputs": [],
   "source": [
    "nombres_columnas = ['Base liquidable anual en €', 'Cuota autonómica en €', 'Cuota con medio punto en €', 'Ahorro anual en €', 'Ahorro al mes en €']\n",
    "df.columns = nombres_columnas #cambio el nombre de las columnas"
   ]
  },
  {
   "cell_type": "code",
   "execution_count": 23,
   "id": "09beebdf",
   "metadata": {
    "scrolled": true
   },
   "outputs": [
    {
     "name": "stderr",
     "output_type": "stream",
     "text": [
      "/var/folders/c4/q4g9gfss40b99pgtrgdmszbh0000gn/T/ipykernel_2842/1660699103.py:1: FutureWarning: The default value of regex will change from True to False in a future version. In addition, single character regular expressions will *not* be treated as literal strings when regex=True.\n",
      "  df = df.apply(lambda x: x.str.replace('.', '').str.replace('€', '')) #elimino del dataframe los puntos y los simbolos €\n"
     ]
    }
   ],
   "source": [
    "df = df.apply(lambda x: x.str.replace('.', '').str.replace('€', '')) #elimino del dataframe los puntos y los simbolos €"
   ]
  },
  {
   "cell_type": "code",
   "execution_count": 24,
   "id": "9120f5b7",
   "metadata": {},
   "outputs": [],
   "source": [
    "a_int = [\"Base liquidable anual en €\", \"Cuota autonómica en €\", \"Cuota con medio punto en €\", \"Ahorro anual en €\"]\n",
    "df[a_int] = df[a_int].astype(int) #transformo en int los valores de las columnas"
   ]
  },
  {
   "cell_type": "code",
   "execution_count": 25,
   "id": "65df764c",
   "metadata": {},
   "outputs": [
    {
     "data": {
      "text/html": [
       "<div>\n",
       "<style scoped>\n",
       "    .dataframe tbody tr th:only-of-type {\n",
       "        vertical-align: middle;\n",
       "    }\n",
       "\n",
       "    .dataframe tbody tr th {\n",
       "        vertical-align: top;\n",
       "    }\n",
       "\n",
       "    .dataframe thead th {\n",
       "        text-align: right;\n",
       "    }\n",
       "</style>\n",
       "<table border=\"1\" class=\"dataframe\">\n",
       "  <thead>\n",
       "    <tr style=\"text-align: right;\">\n",
       "      <th></th>\n",
       "      <th>Base liquidable anual en €</th>\n",
       "      <th>Cuota autonómica en €</th>\n",
       "      <th>Cuota con medio punto en €</th>\n",
       "      <th>Ahorro anual en €</th>\n",
       "      <th>Ahorro al mes en €</th>\n",
       "    </tr>\n",
       "  </thead>\n",
       "  <tbody>\n",
       "    <tr>\n",
       "      <th>1</th>\n",
       "      <td>6000</td>\n",
       "      <td>45</td>\n",
       "      <td>43</td>\n",
       "      <td>3</td>\n",
       "      <td>0,2</td>\n",
       "    </tr>\n",
       "    <tr>\n",
       "      <th>2</th>\n",
       "      <td>12000</td>\n",
       "      <td>585</td>\n",
       "      <td>553</td>\n",
       "      <td>33</td>\n",
       "      <td>2,7</td>\n",
       "    </tr>\n",
       "    <tr>\n",
       "      <th>3</th>\n",
       "      <td>18000</td>\n",
       "      <td>1253</td>\n",
       "      <td>1191</td>\n",
       "      <td>63</td>\n",
       "      <td>5,2</td>\n",
       "    </tr>\n",
       "    <tr>\n",
       "      <th>4</th>\n",
       "      <td>24000</td>\n",
       "      <td>2051</td>\n",
       "      <td>1959</td>\n",
       "      <td>93</td>\n",
       "      <td>7,7</td>\n",
       "    </tr>\n",
       "    <tr>\n",
       "      <th>5</th>\n",
       "      <td>30000</td>\n",
       "      <td>2849</td>\n",
       "      <td>2727</td>\n",
       "      <td>123</td>\n",
       "      <td>10,2</td>\n",
       "    </tr>\n",
       "    <tr>\n",
       "      <th>6</th>\n",
       "      <td>36000</td>\n",
       "      <td>3785</td>\n",
       "      <td>3632</td>\n",
       "      <td>153</td>\n",
       "      <td>12,7</td>\n",
       "    </tr>\n",
       "    <tr>\n",
       "      <th>7</th>\n",
       "      <td>42000</td>\n",
       "      <td>4859</td>\n",
       "      <td>4676</td>\n",
       "      <td>183</td>\n",
       "      <td>15,2</td>\n",
       "    </tr>\n",
       "    <tr>\n",
       "      <th>8</th>\n",
       "      <td>48000</td>\n",
       "      <td>5933</td>\n",
       "      <td>5720</td>\n",
       "      <td>213</td>\n",
       "      <td>17,7</td>\n",
       "    </tr>\n",
       "    <tr>\n",
       "      <th>9</th>\n",
       "      <td>54000</td>\n",
       "      <td>7025</td>\n",
       "      <td>6783</td>\n",
       "      <td>243</td>\n",
       "      <td>20,2</td>\n",
       "    </tr>\n",
       "    <tr>\n",
       "      <th>10</th>\n",
       "      <td>60000</td>\n",
       "      <td>8285</td>\n",
       "      <td>8013</td>\n",
       "      <td>273</td>\n",
       "      <td>22,7</td>\n",
       "    </tr>\n",
       "    <tr>\n",
       "      <th>11</th>\n",
       "      <td>90000</td>\n",
       "      <td>14585</td>\n",
       "      <td>14163</td>\n",
       "      <td>423</td>\n",
       "      <td>35,2</td>\n",
       "    </tr>\n",
       "    <tr>\n",
       "      <th>12</th>\n",
       "      <td>120000</td>\n",
       "      <td>20885</td>\n",
       "      <td>20313</td>\n",
       "      <td>573</td>\n",
       "      <td>47,7</td>\n",
       "    </tr>\n",
       "    <tr>\n",
       "      <th>13</th>\n",
       "      <td>150000</td>\n",
       "      <td>27185</td>\n",
       "      <td>26463</td>\n",
       "      <td>723</td>\n",
       "      <td>60,2</td>\n",
       "    </tr>\n",
       "    <tr>\n",
       "      <th>14</th>\n",
       "      <td>180000</td>\n",
       "      <td>33485</td>\n",
       "      <td>32613</td>\n",
       "      <td>873</td>\n",
       "      <td>72,7</td>\n",
       "    </tr>\n",
       "    <tr>\n",
       "      <th>15</th>\n",
       "      <td>210000</td>\n",
       "      <td>39785</td>\n",
       "      <td>38763</td>\n",
       "      <td>1023</td>\n",
       "      <td>85,2</td>\n",
       "    </tr>\n",
       "    <tr>\n",
       "      <th>16</th>\n",
       "      <td>240000</td>\n",
       "      <td>46085</td>\n",
       "      <td>44913</td>\n",
       "      <td>1173</td>\n",
       "      <td>97,7</td>\n",
       "    </tr>\n",
       "    <tr>\n",
       "      <th>17</th>\n",
       "      <td>360000</td>\n",
       "      <td>71285</td>\n",
       "      <td>69513</td>\n",
       "      <td>1773</td>\n",
       "      <td>147,7</td>\n",
       "    </tr>\n",
       "    <tr>\n",
       "      <th>18</th>\n",
       "      <td>480000</td>\n",
       "      <td>96485</td>\n",
       "      <td>94113</td>\n",
       "      <td>2373</td>\n",
       "      <td>197,7</td>\n",
       "    </tr>\n",
       "    <tr>\n",
       "      <th>19</th>\n",
       "      <td>600000</td>\n",
       "      <td>121685</td>\n",
       "      <td>118713</td>\n",
       "      <td>2973</td>\n",
       "      <td>247,7</td>\n",
       "    </tr>\n",
       "  </tbody>\n",
       "</table>\n",
       "</div>"
      ],
      "text/plain": [
       "    Base liquidable anual en €  Cuota autonómica en €  \\\n",
       "1                         6000                     45   \n",
       "2                        12000                    585   \n",
       "3                        18000                   1253   \n",
       "4                        24000                   2051   \n",
       "5                        30000                   2849   \n",
       "6                        36000                   3785   \n",
       "7                        42000                   4859   \n",
       "8                        48000                   5933   \n",
       "9                        54000                   7025   \n",
       "10                       60000                   8285   \n",
       "11                       90000                  14585   \n",
       "12                      120000                  20885   \n",
       "13                      150000                  27185   \n",
       "14                      180000                  33485   \n",
       "15                      210000                  39785   \n",
       "16                      240000                  46085   \n",
       "17                      360000                  71285   \n",
       "18                      480000                  96485   \n",
       "19                      600000                 121685   \n",
       "\n",
       "    Cuota con medio punto en €  Ahorro anual en € Ahorro al mes en €  \n",
       "1                           43                  3                0,2  \n",
       "2                          553                 33                2,7  \n",
       "3                         1191                 63                5,2  \n",
       "4                         1959                 93                7,7  \n",
       "5                         2727                123               10,2  \n",
       "6                         3632                153               12,7  \n",
       "7                         4676                183               15,2  \n",
       "8                         5720                213               17,7  \n",
       "9                         6783                243               20,2  \n",
       "10                        8013                273               22,7  \n",
       "11                       14163                423               35,2  \n",
       "12                       20313                573               47,7  \n",
       "13                       26463                723               60,2  \n",
       "14                       32613                873               72,7  \n",
       "15                       38763               1023               85,2  \n",
       "16                       44913               1173               97,7  \n",
       "17                       69513               1773              147,7  \n",
       "18                       94113               2373              197,7  \n",
       "19                      118713               2973              247,7  "
      ]
     },
     "execution_count": 25,
     "metadata": {},
     "output_type": "execute_result"
    }
   ],
   "source": [
    "df"
   ]
  },
  {
   "cell_type": "code",
   "execution_count": 26,
   "id": "2cebb92e",
   "metadata": {},
   "outputs": [],
   "source": [
    "ahorro_anual = df.set_index('Base liquidable anual en €')['Ahorro anual en €'].rename('Ahorro anual en €')\n",
    "ahorro_anual = pd.DataFrame(ahorro_anual) #creo un data frame llamado ahorro anual con los datos que me interesa visualizar"
   ]
  },
  {
   "cell_type": "code",
   "execution_count": 28,
   "id": "86526d13",
   "metadata": {},
   "outputs": [
    {
     "ename": "ValueError",
     "evalue": "No engine for filetype: 'cvs'",
     "output_type": "error",
     "traceback": [
      "\u001b[0;31m---------------------------------------------------------------------------\u001b[0m",
      "\u001b[0;31mOptionError\u001b[0m                               Traceback (most recent call last)",
      "File \u001b[0;32m~/anaconda3/lib/python3.11/site-packages/pandas/io/excel/_base.py:1144\u001b[0m, in \u001b[0;36mExcelWriter.__new__\u001b[0;34m(cls, path, engine, date_format, datetime_format, mode, storage_options, if_sheet_exists, engine_kwargs, **kwargs)\u001b[0m\n\u001b[1;32m   1143\u001b[0m \u001b[38;5;28;01mtry\u001b[39;00m:\n\u001b[0;32m-> 1144\u001b[0m     engine \u001b[38;5;241m=\u001b[39m config\u001b[38;5;241m.\u001b[39mget_option(\u001b[38;5;124mf\u001b[39m\u001b[38;5;124m\"\u001b[39m\u001b[38;5;124mio.excel.\u001b[39m\u001b[38;5;132;01m{\u001b[39;00mext\u001b[38;5;132;01m}\u001b[39;00m\u001b[38;5;124m.writer\u001b[39m\u001b[38;5;124m\"\u001b[39m, silent\u001b[38;5;241m=\u001b[39m\u001b[38;5;28;01mTrue\u001b[39;00m)\n\u001b[1;32m   1145\u001b[0m     \u001b[38;5;28;01mif\u001b[39;00m engine \u001b[38;5;241m==\u001b[39m \u001b[38;5;124m\"\u001b[39m\u001b[38;5;124mauto\u001b[39m\u001b[38;5;124m\"\u001b[39m:\n",
      "File \u001b[0;32m~/anaconda3/lib/python3.11/site-packages/pandas/_config/config.py:263\u001b[0m, in \u001b[0;36mCallableDynamicDoc.__call__\u001b[0;34m(self, *args, **kwds)\u001b[0m\n\u001b[1;32m    262\u001b[0m \u001b[38;5;28;01mdef\u001b[39;00m \u001b[38;5;21m__call__\u001b[39m(\u001b[38;5;28mself\u001b[39m, \u001b[38;5;241m*\u001b[39margs, \u001b[38;5;241m*\u001b[39m\u001b[38;5;241m*\u001b[39mkwds) \u001b[38;5;241m-\u001b[39m\u001b[38;5;241m>\u001b[39m T:\n\u001b[0;32m--> 263\u001b[0m     \u001b[38;5;28;01mreturn\u001b[39;00m \u001b[38;5;28mself\u001b[39m\u001b[38;5;241m.\u001b[39m\u001b[38;5;18m__func__\u001b[39m(\u001b[38;5;241m*\u001b[39margs, \u001b[38;5;241m*\u001b[39m\u001b[38;5;241m*\u001b[39mkwds)\n",
      "File \u001b[0;32m~/anaconda3/lib/python3.11/site-packages/pandas/_config/config.py:135\u001b[0m, in \u001b[0;36m_get_option\u001b[0;34m(pat, silent)\u001b[0m\n\u001b[1;32m    134\u001b[0m \u001b[38;5;28;01mdef\u001b[39;00m \u001b[38;5;21m_get_option\u001b[39m(pat: \u001b[38;5;28mstr\u001b[39m, silent: \u001b[38;5;28mbool\u001b[39m \u001b[38;5;241m=\u001b[39m \u001b[38;5;28;01mFalse\u001b[39;00m) \u001b[38;5;241m-\u001b[39m\u001b[38;5;241m>\u001b[39m Any:\n\u001b[0;32m--> 135\u001b[0m     key \u001b[38;5;241m=\u001b[39m _get_single_key(pat, silent)\n\u001b[1;32m    137\u001b[0m     \u001b[38;5;66;03m# walk the nested dict\u001b[39;00m\n",
      "File \u001b[0;32m~/anaconda3/lib/python3.11/site-packages/pandas/_config/config.py:121\u001b[0m, in \u001b[0;36m_get_single_key\u001b[0;34m(pat, silent)\u001b[0m\n\u001b[1;32m    120\u001b[0m         _warn_if_deprecated(pat)\n\u001b[0;32m--> 121\u001b[0m     \u001b[38;5;28;01mraise\u001b[39;00m OptionError(\u001b[38;5;124mf\u001b[39m\u001b[38;5;124m\"\u001b[39m\u001b[38;5;124mNo such keys(s): \u001b[39m\u001b[38;5;132;01m{\u001b[39;00m\u001b[38;5;28mrepr\u001b[39m(pat)\u001b[38;5;132;01m}\u001b[39;00m\u001b[38;5;124m\"\u001b[39m)\n\u001b[1;32m    122\u001b[0m \u001b[38;5;28;01mif\u001b[39;00m \u001b[38;5;28mlen\u001b[39m(keys) \u001b[38;5;241m>\u001b[39m \u001b[38;5;241m1\u001b[39m:\n",
      "\u001b[0;31mOptionError\u001b[0m: No such keys(s): 'io.excel.cvs.writer'",
      "\nThe above exception was the direct cause of the following exception:\n",
      "\u001b[0;31mValueError\u001b[0m                                Traceback (most recent call last)",
      "Cell \u001b[0;32mIn[28], line 1\u001b[0m\n\u001b[0;32m----> 1\u001b[0m ahorro_anual\u001b[38;5;241m.\u001b[39mto_excel(\u001b[38;5;124m'\u001b[39m\u001b[38;5;124mahorro_anual.cvs\u001b[39m\u001b[38;5;124m'\u001b[39m, index\u001b[38;5;241m=\u001b[39m\u001b[38;5;28;01mTrue\u001b[39;00m)\n",
      "File \u001b[0;32m~/anaconda3/lib/python3.11/site-packages/pandas/util/_decorators.py:211\u001b[0m, in \u001b[0;36mdeprecate_kwarg.<locals>._deprecate_kwarg.<locals>.wrapper\u001b[0;34m(*args, **kwargs)\u001b[0m\n\u001b[1;32m    209\u001b[0m     \u001b[38;5;28;01melse\u001b[39;00m:\n\u001b[1;32m    210\u001b[0m         kwargs[new_arg_name] \u001b[38;5;241m=\u001b[39m new_arg_value\n\u001b[0;32m--> 211\u001b[0m \u001b[38;5;28;01mreturn\u001b[39;00m func(\u001b[38;5;241m*\u001b[39margs, \u001b[38;5;241m*\u001b[39m\u001b[38;5;241m*\u001b[39mkwargs)\n",
      "File \u001b[0;32m~/anaconda3/lib/python3.11/site-packages/pandas/util/_decorators.py:211\u001b[0m, in \u001b[0;36mdeprecate_kwarg.<locals>._deprecate_kwarg.<locals>.wrapper\u001b[0;34m(*args, **kwargs)\u001b[0m\n\u001b[1;32m    209\u001b[0m     \u001b[38;5;28;01melse\u001b[39;00m:\n\u001b[1;32m    210\u001b[0m         kwargs[new_arg_name] \u001b[38;5;241m=\u001b[39m new_arg_value\n\u001b[0;32m--> 211\u001b[0m \u001b[38;5;28;01mreturn\u001b[39;00m func(\u001b[38;5;241m*\u001b[39margs, \u001b[38;5;241m*\u001b[39m\u001b[38;5;241m*\u001b[39mkwargs)\n",
      "File \u001b[0;32m~/anaconda3/lib/python3.11/site-packages/pandas/core/generic.py:2374\u001b[0m, in \u001b[0;36mNDFrame.to_excel\u001b[0;34m(self, excel_writer, sheet_name, na_rep, float_format, columns, header, index, index_label, startrow, startcol, engine, merge_cells, encoding, inf_rep, verbose, freeze_panes, storage_options)\u001b[0m\n\u001b[1;32m   2361\u001b[0m \u001b[38;5;28;01mfrom\u001b[39;00m \u001b[38;5;21;01mpandas\u001b[39;00m\u001b[38;5;21;01m.\u001b[39;00m\u001b[38;5;21;01mio\u001b[39;00m\u001b[38;5;21;01m.\u001b[39;00m\u001b[38;5;21;01mformats\u001b[39;00m\u001b[38;5;21;01m.\u001b[39;00m\u001b[38;5;21;01mexcel\u001b[39;00m \u001b[38;5;28;01mimport\u001b[39;00m ExcelFormatter\n\u001b[1;32m   2363\u001b[0m formatter \u001b[38;5;241m=\u001b[39m ExcelFormatter(\n\u001b[1;32m   2364\u001b[0m     df,\n\u001b[1;32m   2365\u001b[0m     na_rep\u001b[38;5;241m=\u001b[39mna_rep,\n\u001b[0;32m   (...)\u001b[0m\n\u001b[1;32m   2372\u001b[0m     inf_rep\u001b[38;5;241m=\u001b[39minf_rep,\n\u001b[1;32m   2373\u001b[0m )\n\u001b[0;32m-> 2374\u001b[0m formatter\u001b[38;5;241m.\u001b[39mwrite(\n\u001b[1;32m   2375\u001b[0m     excel_writer,\n\u001b[1;32m   2376\u001b[0m     sheet_name\u001b[38;5;241m=\u001b[39msheet_name,\n\u001b[1;32m   2377\u001b[0m     startrow\u001b[38;5;241m=\u001b[39mstartrow,\n\u001b[1;32m   2378\u001b[0m     startcol\u001b[38;5;241m=\u001b[39mstartcol,\n\u001b[1;32m   2379\u001b[0m     freeze_panes\u001b[38;5;241m=\u001b[39mfreeze_panes,\n\u001b[1;32m   2380\u001b[0m     engine\u001b[38;5;241m=\u001b[39mengine,\n\u001b[1;32m   2381\u001b[0m     storage_options\u001b[38;5;241m=\u001b[39mstorage_options,\n\u001b[1;32m   2382\u001b[0m )\n",
      "File \u001b[0;32m~/anaconda3/lib/python3.11/site-packages/pandas/io/formats/excel.py:944\u001b[0m, in \u001b[0;36mExcelFormatter.write\u001b[0;34m(self, writer, sheet_name, startrow, startcol, freeze_panes, engine, storage_options)\u001b[0m\n\u001b[1;32m    940\u001b[0m     need_save \u001b[38;5;241m=\u001b[39m \u001b[38;5;28;01mFalse\u001b[39;00m\n\u001b[1;32m    941\u001b[0m \u001b[38;5;28;01melse\u001b[39;00m:\n\u001b[1;32m    942\u001b[0m     \u001b[38;5;66;03m# error: Cannot instantiate abstract class 'ExcelWriter' with abstract\u001b[39;00m\n\u001b[1;32m    943\u001b[0m     \u001b[38;5;66;03m# attributes 'engine', 'save', 'supported_extensions' and 'write_cells'\u001b[39;00m\n\u001b[0;32m--> 944\u001b[0m     writer \u001b[38;5;241m=\u001b[39m ExcelWriter(  \u001b[38;5;66;03m# type: ignore[abstract]\u001b[39;00m\n\u001b[1;32m    945\u001b[0m         writer, engine\u001b[38;5;241m=\u001b[39mengine, storage_options\u001b[38;5;241m=\u001b[39mstorage_options\n\u001b[1;32m    946\u001b[0m     )\n\u001b[1;32m    947\u001b[0m     need_save \u001b[38;5;241m=\u001b[39m \u001b[38;5;28;01mTrue\u001b[39;00m\n\u001b[1;32m    949\u001b[0m \u001b[38;5;28;01mtry\u001b[39;00m:\n",
      "File \u001b[0;32m~/anaconda3/lib/python3.11/site-packages/pandas/io/excel/_base.py:1148\u001b[0m, in \u001b[0;36mExcelWriter.__new__\u001b[0;34m(cls, path, engine, date_format, datetime_format, mode, storage_options, if_sheet_exists, engine_kwargs, **kwargs)\u001b[0m\n\u001b[1;32m   1146\u001b[0m             engine \u001b[38;5;241m=\u001b[39m get_default_engine(ext, mode\u001b[38;5;241m=\u001b[39m\u001b[38;5;124m\"\u001b[39m\u001b[38;5;124mwriter\u001b[39m\u001b[38;5;124m\"\u001b[39m)\n\u001b[1;32m   1147\u001b[0m     \u001b[38;5;28;01mexcept\u001b[39;00m \u001b[38;5;167;01mKeyError\u001b[39;00m \u001b[38;5;28;01mas\u001b[39;00m err:\n\u001b[0;32m-> 1148\u001b[0m         \u001b[38;5;28;01mraise\u001b[39;00m \u001b[38;5;167;01mValueError\u001b[39;00m(\u001b[38;5;124mf\u001b[39m\u001b[38;5;124m\"\u001b[39m\u001b[38;5;124mNo engine for filetype: \u001b[39m\u001b[38;5;124m'\u001b[39m\u001b[38;5;132;01m{\u001b[39;00mext\u001b[38;5;132;01m}\u001b[39;00m\u001b[38;5;124m'\u001b[39m\u001b[38;5;124m\"\u001b[39m) \u001b[38;5;28;01mfrom\u001b[39;00m \u001b[38;5;21;01merr\u001b[39;00m\n\u001b[1;32m   1150\u001b[0m \u001b[38;5;28;01mif\u001b[39;00m engine \u001b[38;5;241m==\u001b[39m \u001b[38;5;124m\"\u001b[39m\u001b[38;5;124mxlwt\u001b[39m\u001b[38;5;124m\"\u001b[39m:\n\u001b[1;32m   1151\u001b[0m     xls_config_engine \u001b[38;5;241m=\u001b[39m config\u001b[38;5;241m.\u001b[39mget_option(\n\u001b[1;32m   1152\u001b[0m         \u001b[38;5;124m\"\u001b[39m\u001b[38;5;124mio.excel.xls.writer\u001b[39m\u001b[38;5;124m\"\u001b[39m, silent\u001b[38;5;241m=\u001b[39m\u001b[38;5;28;01mTrue\u001b[39;00m\n\u001b[1;32m   1153\u001b[0m     )\n",
      "\u001b[0;31mValueError\u001b[0m: No engine for filetype: 'cvs'"
     ]
    }
   ],
   "source": [
    "ahorro_anual.to_excel('ahorro_anual.cvs', index=True)"
   ]
  },
  {
   "cell_type": "code",
   "execution_count": 14,
   "id": "a1b3a82f",
   "metadata": {},
   "outputs": [
    {
     "data": {
      "image/png": "[encoded data removed]",
      "text/plain": [
       "<Figure size 1000x600 with 1 Axes>"
      ]
     },
     "metadata": {},
     "output_type": "display_data"
    }
   ],
   "source": [
    "ahorro_anual[['Ahorro anual en €']].plot(kind='bar', figsize=(10, 6))\n",
    "plt.savefig('ahorro_anual.png')\n",
    "plt.show()\n"
   ]
  },
  {
   "cell_type": "markdown",
   "id": "9f14cd5d",
   "metadata": {},
   "source": [
    "## Carga en MongoDB"
   ]
  },
  {
   "cell_type": "code",
   "execution_count": 1,
   "id": "1d1ff838",
   "metadata": {},
   "outputs": [
    {
     "name": "stdout",
     "output_type": "stream",
     "text": [
      "Requirement already satisfied: pymongo in /Users/davidledo/anaconda3/lib/python3.11/site-packages (4.5.0)\n",
      "Requirement already satisfied: dnspython<3.0.0,>=1.16.0 in /Users/davidledo/anaconda3/lib/python3.11/site-packages (from pymongo) (2.4.2)\n",
      "Note: you may need to restart the kernel to use updated packages.\n"
     ]
    }
   ],
   "source": [
    "%pip install pymongo\n",
    "from pymongo import MongoClient"
   ]
  },
  {
   "cell_type": "code",
   "execution_count": 47,
   "id": "a8636dc7",
   "metadata": {},
   "outputs": [
    {
     "data": {
      "text/plain": [
       "MongoClient(host=['localhost:27017'], document_class=dict, tz_aware=False, connect=True)"
      ]
     },
     "execution_count": 47,
     "metadata": {},
     "output_type": "execute_result"
    }
   ],
   "source": [
    "MongoClient(host=['localhost:27017'], document_class=dict, tz_aware=False, connect=True)\n",
    "\n",
    "str_conn = 'mongodb://localhost:27017'   # str_con por defecto\n",
    "\n",
    "cursor = MongoClient(str_conn)\n",
    "\n",
    "cursor"
   ]
  },
  {
   "cell_type": "code",
   "execution_count": 49,
   "id": "df843d9e",
   "metadata": {},
   "outputs": [],
   "source": [
    "db = cursor.dumping_mad"
   ]
  },
  {
   "cell_type": "code",
   "execution_count": 50,
   "id": "ef95fa5a",
   "metadata": {},
   "outputs": [],
   "source": [
    "colec = db.n_colec"
   ]
  },
  {
   "cell_type": "code",
   "execution_count": 51,
   "id": "cd56b634",
   "metadata": {},
   "outputs": [
    {
     "data": {
      "text/plain": [
       "[]"
      ]
     },
     "execution_count": 51,
     "metadata": {},
     "output_type": "execute_result"
    }
   ],
   "source": [
    "db.list_collection_names()"
   ]
  },
  {
   "cell_type": "code",
   "execution_count": 56,
   "id": "3a67f0d4",
   "metadata": {},
   "outputs": [],
   "source": [
    "ahorro_anual_dict = df.to_dict(orient='list')"
   ]
  },
  {
   "cell_type": "code",
   "execution_count": 58,
   "id": "deb8168c",
   "metadata": {},
   "outputs": [
    {
     "data": {
      "text/plain": [
       "<pymongo.results.InsertOneResult at 0x125e5dfc0>"
      ]
     },
     "execution_count": 58,
     "metadata": {},
     "output_type": "execute_result"
    }
   ],
   "source": [
    "colec.insert_one(ahorro_anual_dict)"
   ]
  }
 ],
 "metadata": {
  "kernelspec": {
   "display_name": "Python 3 (ipykernel)",
   "language": "python",
   "name": "python3"
  },
  "language_info": {
   "codemirror_mode": {
    "name": "ipython",
    "version": 3
   },
   "file_extension": ".py",
   "mimetype": "text/x-python",
   "name": "python",
   "nbconvert_exporter": "python",
   "pygments_lexer": "ipython3",
   "version": "3.11.3"
  }
 },
 "nbformat": 4,
 "nbformat_minor": 5
}
