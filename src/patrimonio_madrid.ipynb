{
 "cells": [
  {
   "cell_type": "code",
   "execution_count": 11,
   "id": "8b5aac35",
   "metadata": {},
   "outputs": [],
   "source": [
    "import pandas as pd\n",
    "import matplotlib.pyplot as plt\n",
    "from io import BytesIO\n",
    "import base64\n",
    "import zipfile\n",
    "import urllib.request"
   ]
  },
  {
   "cell_type": "code",
   "execution_count": 12,
   "id": "b5c9f626",
   "metadata": {},
   "outputs": [],
   "source": [
    "url = 'https://www.hacienda.gob.es/Documentacion/Publico/Tributos/Estadisticas/IP/2020/Graficos-Libro-IP-2020.zip'\n",
    "nombre_archivo = 'Graficos-Libro-IP-2020.zip' \n",
    "# descargo el archivo zip desde la URL de hacienda\n",
    "urllib.request.urlretrieve(url, nombre_archivo)\n",
    "#descomprimo el zip y extraigo el archivo excel \n",
    "excel = 'G_12 Libro IP 2020.xlsx'\n",
    "with zipfile.ZipFile(nombre_archivo, 'r') as zip_ref:\n",
    "    zip_ref.extractall()\n",
    "\n",
    "    excel = zip_ref.namelist()[11]\n",
    "cuadro = pd.read_excel(excel)"
   ]
  },
  {
   "cell_type": "code",
   "execution_count": 13,
   "id": "c67e2d1f",
   "metadata": {},
   "outputs": [
    {
     "data": {
      "text/html": [
       "<div>\n",
       "<style scoped>\n",
       "    .dataframe tbody tr th:only-of-type {\n",
       "        vertical-align: middle;\n",
       "    }\n",
       "\n",
       "    .dataframe tbody tr th {\n",
       "        vertical-align: top;\n",
       "    }\n",
       "\n",
       "    .dataframe thead th {\n",
       "        text-align: right;\n",
       "    }\n",
       "</style>\n",
       "<table border=\"1\" class=\"dataframe\">\n",
       "  <thead>\n",
       "    <tr style=\"text-align: right;\">\n",
       "      <th></th>\n",
       "      <th>Unnamed: 0</th>\n",
       "      <th>Tipo medio</th>\n",
       "      <th>Tipo efectivo</th>\n",
       "    </tr>\n",
       "  </thead>\n",
       "  <tbody>\n",
       "    <tr>\n",
       "      <th>0</th>\n",
       "      <td>Comunidad de Madrid</td>\n",
       "      <td>0.009654</td>\n",
       "      <td>0.000000</td>\n",
       "    </tr>\n",
       "    <tr>\n",
       "      <th>1</th>\n",
       "      <td>No residentes</td>\n",
       "      <td>0.009039</td>\n",
       "      <td>0.007845</td>\n",
       "    </tr>\n",
       "    <tr>\n",
       "      <th>2</th>\n",
       "      <td>Ceuta</td>\n",
       "      <td>0.007749</td>\n",
       "      <td>0.003679</td>\n",
       "    </tr>\n",
       "    <tr>\n",
       "      <th>3</th>\n",
       "      <td>TOTAL</td>\n",
       "      <td>0.007547</td>\n",
       "      <td>0.004113</td>\n",
       "    </tr>\n",
       "    <tr>\n",
       "      <th>4</th>\n",
       "      <td>Illes Balears</td>\n",
       "      <td>0.007166</td>\n",
       "      <td>0.007155</td>\n",
       "    </tr>\n",
       "    <tr>\n",
       "      <th>5</th>\n",
       "      <td>Comunidad Valenciana</td>\n",
       "      <td>0.006816</td>\n",
       "      <td>0.006810</td>\n",
       "    </tr>\n",
       "    <tr>\n",
       "      <th>6</th>\n",
       "      <td>Extremadura</td>\n",
       "      <td>0.006752</td>\n",
       "      <td>0.006751</td>\n",
       "    </tr>\n",
       "    <tr>\n",
       "      <th>7</th>\n",
       "      <td>Región de Murcia</td>\n",
       "      <td>0.006648</td>\n",
       "      <td>0.006647</td>\n",
       "    </tr>\n",
       "    <tr>\n",
       "      <th>8</th>\n",
       "      <td>Andalucía</td>\n",
       "      <td>0.006437</td>\n",
       "      <td>0.006428</td>\n",
       "    </tr>\n",
       "    <tr>\n",
       "      <th>9</th>\n",
       "      <td>Principado de Asturias</td>\n",
       "      <td>0.006410</td>\n",
       "      <td>0.006379</td>\n",
       "    </tr>\n",
       "    <tr>\n",
       "      <th>10</th>\n",
       "      <td>Galicia</td>\n",
       "      <td>0.006397</td>\n",
       "      <td>0.006396</td>\n",
       "    </tr>\n",
       "    <tr>\n",
       "      <th>11</th>\n",
       "      <td>Cataluña</td>\n",
       "      <td>0.006292</td>\n",
       "      <td>0.006283</td>\n",
       "    </tr>\n",
       "    <tr>\n",
       "      <th>12</th>\n",
       "      <td>Cantabria</td>\n",
       "      <td>0.006207</td>\n",
       "      <td>0.006207</td>\n",
       "    </tr>\n",
       "    <tr>\n",
       "      <th>13</th>\n",
       "      <td>Melilla</td>\n",
       "      <td>0.006122</td>\n",
       "      <td>0.002530</td>\n",
       "    </tr>\n",
       "    <tr>\n",
       "      <th>14</th>\n",
       "      <td>La Rioja</td>\n",
       "      <td>0.005753</td>\n",
       "      <td>0.005753</td>\n",
       "    </tr>\n",
       "    <tr>\n",
       "      <th>15</th>\n",
       "      <td>Canarias</td>\n",
       "      <td>0.005529</td>\n",
       "      <td>0.005523</td>\n",
       "    </tr>\n",
       "    <tr>\n",
       "      <th>16</th>\n",
       "      <td>Castilla y León</td>\n",
       "      <td>0.005366</td>\n",
       "      <td>0.005364</td>\n",
       "    </tr>\n",
       "    <tr>\n",
       "      <th>17</th>\n",
       "      <td>Aragón</td>\n",
       "      <td>0.005227</td>\n",
       "      <td>0.005226</td>\n",
       "    </tr>\n",
       "    <tr>\n",
       "      <th>18</th>\n",
       "      <td>Castilla-La Mancha</td>\n",
       "      <td>0.005065</td>\n",
       "      <td>0.005064</td>\n",
       "    </tr>\n",
       "  </tbody>\n",
       "</table>\n",
       "</div>"
      ],
      "text/plain": [
       "                Unnamed: 0  Tipo medio  Tipo efectivo\n",
       "0      Comunidad de Madrid    0.009654       0.000000\n",
       "1            No residentes    0.009039       0.007845\n",
       "2                    Ceuta    0.007749       0.003679\n",
       "3                    TOTAL    0.007547       0.004113\n",
       "4            Illes Balears    0.007166       0.007155\n",
       "5     Comunidad Valenciana    0.006816       0.006810\n",
       "6              Extremadura    0.006752       0.006751\n",
       "7         Región de Murcia    0.006648       0.006647\n",
       "8                Andalucía    0.006437       0.006428\n",
       "9   Principado de Asturias    0.006410       0.006379\n",
       "10                 Galicia    0.006397       0.006396\n",
       "11                Cataluña    0.006292       0.006283\n",
       "12               Cantabria    0.006207       0.006207\n",
       "13                 Melilla    0.006122       0.002530\n",
       "14                La Rioja    0.005753       0.005753\n",
       "15                Canarias    0.005529       0.005523\n",
       "16         Castilla y León    0.005366       0.005364\n",
       "17                  Aragón    0.005227       0.005226\n",
       "18      Castilla-La Mancha    0.005065       0.005064"
      ]
     },
     "execution_count": 13,
     "metadata": {},
     "output_type": "execute_result"
    }
   ],
   "source": [
    "cuadro"
   ]
  },
  {
   "cell_type": "code",
   "execution_count": 14,
   "id": "3bfda50b",
   "metadata": {},
   "outputs": [],
   "source": [
    "cuadro = cuadro.drop([1, 3]) #elimino las filas"
   ]
  },
  {
   "cell_type": "code",
   "execution_count": 20,
   "id": "51f9f2a0",
   "metadata": {},
   "outputs": [
    {
     "data": {
      "text/html": [
       "<div>\n",
       "<style scoped>\n",
       "    .dataframe tbody tr th:only-of-type {\n",
       "        vertical-align: middle;\n",
       "    }\n",
       "\n",
       "    .dataframe tbody tr th {\n",
       "        vertical-align: top;\n",
       "    }\n",
       "\n",
       "    .dataframe thead th {\n",
       "        text-align: right;\n",
       "    }\n",
       "</style>\n",
       "<table border=\"1\" class=\"dataframe\">\n",
       "  <thead>\n",
       "    <tr style=\"text-align: right;\">\n",
       "      <th></th>\n",
       "      <th>Tipo medio</th>\n",
       "      <th>Tipo efectivo</th>\n",
       "    </tr>\n",
       "    <tr>\n",
       "      <th>Comunidad autónoma</th>\n",
       "      <th></th>\n",
       "      <th></th>\n",
       "    </tr>\n",
       "  </thead>\n",
       "  <tbody>\n",
       "    <tr>\n",
       "      <th>Comunidad de Madrid</th>\n",
       "      <td>0.009654</td>\n",
       "      <td>0.000000</td>\n",
       "    </tr>\n",
       "    <tr>\n",
       "      <th>Ceuta</th>\n",
       "      <td>0.007749</td>\n",
       "      <td>0.003679</td>\n",
       "    </tr>\n",
       "    <tr>\n",
       "      <th>Illes Balears</th>\n",
       "      <td>0.007166</td>\n",
       "      <td>0.007155</td>\n",
       "    </tr>\n",
       "    <tr>\n",
       "      <th>Comunidad Valenciana</th>\n",
       "      <td>0.006816</td>\n",
       "      <td>0.006810</td>\n",
       "    </tr>\n",
       "    <tr>\n",
       "      <th>Extremadura</th>\n",
       "      <td>0.006752</td>\n",
       "      <td>0.006751</td>\n",
       "    </tr>\n",
       "    <tr>\n",
       "      <th>Región de Murcia</th>\n",
       "      <td>0.006648</td>\n",
       "      <td>0.006647</td>\n",
       "    </tr>\n",
       "    <tr>\n",
       "      <th>Andalucía</th>\n",
       "      <td>0.006437</td>\n",
       "      <td>0.006428</td>\n",
       "    </tr>\n",
       "    <tr>\n",
       "      <th>Principado de Asturias</th>\n",
       "      <td>0.006410</td>\n",
       "      <td>0.006379</td>\n",
       "    </tr>\n",
       "    <tr>\n",
       "      <th>Galicia</th>\n",
       "      <td>0.006397</td>\n",
       "      <td>0.006396</td>\n",
       "    </tr>\n",
       "    <tr>\n",
       "      <th>Cataluña</th>\n",
       "      <td>0.006292</td>\n",
       "      <td>0.006283</td>\n",
       "    </tr>\n",
       "    <tr>\n",
       "      <th>Cantabria</th>\n",
       "      <td>0.006207</td>\n",
       "      <td>0.006207</td>\n",
       "    </tr>\n",
       "    <tr>\n",
       "      <th>Melilla</th>\n",
       "      <td>0.006122</td>\n",
       "      <td>0.002530</td>\n",
       "    </tr>\n",
       "    <tr>\n",
       "      <th>La Rioja</th>\n",
       "      <td>0.005753</td>\n",
       "      <td>0.005753</td>\n",
       "    </tr>\n",
       "    <tr>\n",
       "      <th>Canarias</th>\n",
       "      <td>0.005529</td>\n",
       "      <td>0.005523</td>\n",
       "    </tr>\n",
       "    <tr>\n",
       "      <th>Castilla y León</th>\n",
       "      <td>0.005366</td>\n",
       "      <td>0.005364</td>\n",
       "    </tr>\n",
       "    <tr>\n",
       "      <th>Aragón</th>\n",
       "      <td>0.005227</td>\n",
       "      <td>0.005226</td>\n",
       "    </tr>\n",
       "    <tr>\n",
       "      <th>Castilla-La Mancha</th>\n",
       "      <td>0.005065</td>\n",
       "      <td>0.005064</td>\n",
       "    </tr>\n",
       "  </tbody>\n",
       "</table>\n",
       "</div>"
      ],
      "text/plain": [
       "                        Tipo medio  Tipo efectivo\n",
       "Comunidad autónoma                               \n",
       "Comunidad de Madrid       0.009654       0.000000\n",
       "Ceuta                     0.007749       0.003679\n",
       "Illes Balears             0.007166       0.007155\n",
       "Comunidad Valenciana      0.006816       0.006810\n",
       "Extremadura               0.006752       0.006751\n",
       "Región de Murcia          0.006648       0.006647\n",
       "Andalucía                 0.006437       0.006428\n",
       "Principado de Asturias    0.006410       0.006379\n",
       "Galicia                   0.006397       0.006396\n",
       "Cataluña                  0.006292       0.006283\n",
       "Cantabria                 0.006207       0.006207\n",
       "Melilla                   0.006122       0.002530\n",
       "La Rioja                  0.005753       0.005753\n",
       "Canarias                  0.005529       0.005523\n",
       "Castilla y León           0.005366       0.005364\n",
       "Aragón                    0.005227       0.005226\n",
       "Castilla-La Mancha        0.005065       0.005064"
      ]
     },
     "execution_count": 20,
     "metadata": {},
     "output_type": "execute_result"
    }
   ],
   "source": [
    "cuadro"
   ]
  },
  {
   "cell_type": "code",
   "execution_count": 16,
   "id": "899d1029",
   "metadata": {},
   "outputs": [],
   "source": [
    "cuadro.rename(columns={'Unnamed: 0': 'Comunidad autónoma'}, inplace=True) #renombro la columna"
   ]
  },
  {
   "cell_type": "code",
   "execution_count": 17,
   "id": "20320453",
   "metadata": {},
   "outputs": [],
   "source": [
    "cuadro = cuadro.set_index('Comunidad autónoma') #transformo en indice la columna Comunidad autónoma"
   ]
  },
  {
   "cell_type": "code",
   "execution_count": 21,
   "id": "9f596400",
   "metadata": {},
   "outputs": [],
   "source": [
    "cuadro.to_csv('patrimonio.csv', index=True)"
   ]
  },
  {
   "cell_type": "markdown",
   "id": "66c8c1d0",
   "metadata": {},
   "source": [
    "#### Tipo medio: También conocido como tasa impositiva media, es el porcentaje de impuestos pagados sobre el ingreso total. Se calcula dividiendo el monto total de impuestos pagados por el ingreso bruto. El tipo medio no tiene en cuenta las deducciones, exenciones u otros factores que podrían afectar la cantidad real de impuestos pagados. Es un indicador general de la carga impositiva, pero no refleja necesariamente la cantidad real de impuestos que se pagan\n",
    "\n",
    "#### Tipo efectivo: También conocido como tasa impositiva efectiva, es el porcentaje real de impuestos pagados sobre el ingreso neto después de aplicar todas las deducciones, exenciones y otros factores que podrían afectar la cantidad de impuestos adeudados. El tipo efectivo es una medida más precisa de la carga impositiva real y puede variar ampliamente según la situación individual o empresarial "
   ]
  },
  {
   "cell_type": "code",
   "execution_count": 19,
   "id": "35aaeab5",
   "metadata": {},
   "outputs": [
    {
     "data": {
      "image/png": "[encoded data removed]",
      "text/plain": [
       "<Figure size 640x480 with 1 Axes>"
      ]
     },
     "metadata": {},
     "output_type": "display_data"
    }
   ],
   "source": [
    "#cuadro.plot.line(x='Comunidad autónoma', y=['Tipo medio', 'Tipo efectivo'])\n",
    "cuadro[['Tipo medio', 'Tipo efectivo']].plot(kind='bar')\n",
    "plt.title('Tipo impositivo medio y tipo impositivo efectivo para el impuesto sobre el patrimonio')\n",
    "plt.savefig('imp_patr.png')\n",
    "plt.show()"
   ]
  },
  {
   "cell_type": "markdown",
   "id": "4caa67c8",
   "metadata": {},
   "source": [
    "## Carga en MongoDB"
   ]
  },
  {
   "cell_type": "code",
   "execution_count": 17,
   "id": "4f593bb4",
   "metadata": {},
   "outputs": [],
   "source": [
    "from pymongo import MongoClient"
   ]
  },
  {
   "cell_type": "code",
   "execution_count": 18,
   "id": "e18629d5",
   "metadata": {},
   "outputs": [
    {
     "data": {
      "text/plain": [
       "MongoClient(host=['localhost:27017'], document_class=dict, tz_aware=False, connect=True)"
      ]
     },
     "execution_count": 18,
     "metadata": {},
     "output_type": "execute_result"
    }
   ],
   "source": [
    "MongoClient(host=['localhost:27017'], document_class=dict, tz_aware=False, connect=True)\n",
    "\n",
    "str_conn = 'mongodb://localhost:27017'   # str_con por defecto\n",
    "\n",
    "cursor = MongoClient(str_conn)\n",
    "\n",
    "cursor"
   ]
  },
  {
   "cell_type": "code",
   "execution_count": 19,
   "id": "86d7f9a9",
   "metadata": {},
   "outputs": [],
   "source": [
    "db = cursor.dumping_mad"
   ]
  },
  {
   "cell_type": "code",
   "execution_count": 20,
   "id": "a8259f01",
   "metadata": {},
   "outputs": [],
   "source": [
    "colec = db.n_colec"
   ]
  },
  {
   "cell_type": "code",
   "execution_count": 21,
   "id": "d634b858",
   "metadata": {},
   "outputs": [
    {
     "data": {
      "text/plain": [
       "['n_colec']"
      ]
     },
     "execution_count": 21,
     "metadata": {},
     "output_type": "execute_result"
    }
   ],
   "source": [
    "db.list_collection_names()"
   ]
  },
  {
   "cell_type": "code",
   "execution_count": 22,
   "id": "cdbc8b27",
   "metadata": {},
   "outputs": [],
   "source": [
    "i_p_madrid = cuadro.to_dict(orient='list')"
   ]
  },
  {
   "cell_type": "code",
   "execution_count": 23,
   "id": "e3f0bfc9",
   "metadata": {},
   "outputs": [
    {
     "data": {
      "text/plain": [
       "<pymongo.results.InsertOneResult at 0x126f03ee0>"
      ]
     },
     "execution_count": 23,
     "metadata": {},
     "output_type": "execute_result"
    }
   ],
   "source": [
    "colec.insert_one(i_p_madrid)"
   ]
  },
  {
   "cell_type": "code",
   "execution_count": null,
   "id": "31a20ab0",
   "metadata": {},
   "outputs": [],
   "source": []
  }
 ],
 "metadata": {
  "kernelspec": {
   "display_name": "Python 3 (ipykernel)",
   "language": "python",
   "name": "python3"
  },
  "language_info": {
   "codemirror_mode": {
    "name": "ipython",
    "version": 3
   },
   "file_extension": ".py",
   "mimetype": "text/x-python",
   "name": "python",
   "nbconvert_exporter": "python",
   "pygments_lexer": "ipython3",
   "version": "3.11.3"
  }
 },
 "nbformat": 4,
 "nbformat_minor": 5
}
